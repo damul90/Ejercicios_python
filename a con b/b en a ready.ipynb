{
 "cells": [
  {
   "cell_type": "code",
   "execution_count": 5,
   "id": "5b74fb8a",
   "metadata": {},
   "outputs": [
    {
     "name": "stdout",
     "output_type": "stream",
     "text": [
      "1\n"
     ]
    }
   ],
   "source": [
    "#Cuantas veces se puede escribir el string \"a\" con las letras del string \"b\"\n",
    "\n",
    "def sol(a,b):\n",
    "    con=0\n",
    "    li=[]\n",
    "    for i in a:\n",
    "        for j in b:\n",
    "            if (i==j):\n",
    "                con+=1       \n",
    "        if (con!=0):\n",
    "            #print(con)\n",
    "            li.append(con)\n",
    "            con = 0\n",
    "            flag = True\n",
    "        else:\n",
    "            #print(con)\n",
    "            flag = False\n",
    "            break\n",
    "        \n",
    "    #print(li) \n",
    "    if(flag!=False):   \n",
    "        menor = li[0]\n",
    "        for k in range(len(li)):\n",
    "            if (li[k]<menor):\n",
    "                menor = li[k]\n",
    "        #print(menor)\n",
    "        return menor\n",
    "    else:\n",
    "        return 0\n",
    "\n",
    "a=\"abwc\"\n",
    "b=\"wabcabcabcabcbca\"\n",
    "\n",
    "print(sol(a,b))"
   ]
  },
  {
   "cell_type": "code",
   "execution_count": null,
   "id": "00b58b94",
   "metadata": {},
   "outputs": [],
   "source": []
  }
 ],
 "metadata": {
  "kernelspec": {
   "display_name": "Python 3 (ipykernel)",
   "language": "python",
   "name": "python3"
  },
  "language_info": {
   "codemirror_mode": {
    "name": "ipython",
    "version": 3
   },
   "file_extension": ".py",
   "mimetype": "text/x-python",
   "name": "python",
   "nbconvert_exporter": "python",
   "pygments_lexer": "ipython3",
   "version": "3.9.13"
  }
 },
 "nbformat": 4,
 "nbformat_minor": 5
}
